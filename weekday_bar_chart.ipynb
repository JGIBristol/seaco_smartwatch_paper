{
 "cells": [
  {
   "cell_type": "code",
   "execution_count": null,
   "metadata": {},
   "outputs": [],
   "source": [
    "import os\n",
    "\n",
    "%load_ext autoreload\n",
    "%autoreload 2\n",
    "\n",
    "img_dir = \"outputs/imgs/weekdays/\"\n",
    "if not os.path.exists(img_dir):\n",
    "    os.makedirs(img_dir)"
   ]
  },
  {
   "cell_type": "code",
   "execution_count": null,
   "metadata": {},
   "outputs": [],
   "source": [
    "\"\"\"\n",
    "Read and clean the meal entry data\n",
    "\n",
    "\"\"\"\n",
    "\n",
    "from analysis_utils import clean\n",
    "\n",
    "meal_info = clean.cleaned_smartwatch(keep_catchups=True, keep_day0=False)\n",
    "\n",
    "meal_info = meal_info[[\"week_day\", \"p_id\", \"delta\"]]\n",
    "\n",
    "meal_info[\"entry_day\"] = meal_info[\"delta\"].dt.days\n",
    "meal_info.drop(columns=[\"delta\"], inplace=True)\n",
    "meal_info.head(5)"
   ]
  },
  {
   "cell_type": "code",
   "execution_count": null,
   "metadata": {},
   "outputs": [],
   "source": [
    "\"\"\"\n",
    "Keep only the weekday where the entry day is 1- i.e. the start day of the study\n",
    "\n",
    "\"\"\"\n",
    "import numpy as np\n",
    "\n",
    "start_days = []\n",
    "for (p_id, day), group in meal_info.groupby([\"p_id\", \"entry_day\"]):\n",
    "    if day != 1:\n",
    "        continue\n",
    "\n",
    "    # Get the start day, ensuring that there is only one unique start day for this p_id\n",
    "    # on day 1\n",
    "    start_day, = group[\"week_day\"].unique()\n",
    "\n",
    "    start_days.append(start_day)\n",
    "\n",
    "day_counts = dict(zip(*np.unique(start_days, return_counts=True)))\n",
    "print(day_counts)"
   ]
  },
  {
   "cell_type": "code",
   "execution_count": null,
   "metadata": {},
   "outputs": [],
   "source": [
    "\"\"\" Sort the days \"\"\"\n",
    "\n",
    "natural_order = ['Monday', 'Tuesday', 'Wednesday', 'Thursday', 'Friday', 'Saturday', 'Sunday']\n",
    "sorted_day_counts = {day: day_counts.get(day, 0) for day in natural_order if day in day_counts}\n",
    "\n",
    "sorted_day_counts"
   ]
  },
  {
   "cell_type": "code",
   "execution_count": null,
   "metadata": {},
   "outputs": [],
   "source": [
    "import matplotlib.pyplot as plt\n",
    "\n",
    "plt.figure(figsize=(10, 6))\n",
    "plt.bar(sorted_day_counts.keys(), sorted_day_counts.values())\n",
    "plt.title(\"Study Start Day\")\n",
    "plt.savefig(img_dir + \"study_start_day.png\")"
   ]
  }
 ],
 "metadata": {
  "kernelspec": {
   "display_name": "seaco_env",
   "language": "python",
   "name": "python3"
  },
  "language_info": {
   "codemirror_mode": {
    "name": "ipython",
    "version": 3
   },
   "file_extension": ".py",
   "mimetype": "text/x-python",
   "name": "python",
   "nbconvert_exporter": "python",
   "pygments_lexer": "ipython3",
   "version": "3.10.0"
  }
 },
 "nbformat": 4,
 "nbformat_minor": 2
}
