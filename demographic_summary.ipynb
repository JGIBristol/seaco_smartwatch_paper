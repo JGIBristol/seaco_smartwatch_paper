{
 "cells": [
  {
   "cell_type": "markdown",
   "metadata": {},
   "source": [
    "Demographic Summary\n",
    "====\n",
    "Summary of the participant demographics"
   ]
  },
  {
   "cell_type": "code",
   "execution_count": 1,
   "metadata": {},
   "outputs": [],
   "source": [
    "%load_ext autoreload\n",
    "%autoreload 2"
   ]
  },
  {
   "cell_type": "code",
   "execution_count": null,
   "metadata": {},
   "outputs": [],
   "source": [
    "\"\"\"\n",
    "Read and clean the meal entry data\n",
    "\n",
    "\"\"\"\n",
    "from analysis_utils import clean\n",
    "\n",
    "df = clean.cleaned_survey()\n",
    "\n",
    "# Find only the people who took part in the smartwatch study\n",
    "keep = (df[\"smart1_7to9\"] == 1) | (df[\"smart1_10to17\"] == 1)\n",
    "df = df[keep]\n",
    "\n",
    "print(f\"{len(df)} participants\")"
   ]
  },
  {
   "cell_type": "code",
   "execution_count": null,
   "metadata": {},
   "outputs": [],
   "source": [
    "\"\"\" 2.0 is female; 1.0 is male \"\"\"\n",
    "import pandas as pd\n",
    "\n",
    "# Converting to a DataFrame to make it display nicer\n",
    "pd.DataFrame(df[\"respondent_sex\"].value_counts())"
   ]
  },
  {
   "cell_type": "code",
   "execution_count": null,
   "metadata": {},
   "outputs": [],
   "source": [
    "\"\"\" 1.0 is Malay; 2.0 is Indian; 3.0 is Chinese; 4.0 is Other \"\"\"\n",
    "pd.DataFrame(df[\"respondent_ethnicity\"].value_counts())"
   ]
  },
  {
   "cell_type": "code",
   "execution_count": null,
   "metadata": {},
   "outputs": [],
   "source": [
    "\"\"\" Age \"\"\"\n",
    "pd.DataFrame(df[\"age_dob\"].value_counts().sort_index())"
   ]
  },
  {
   "cell_type": "code",
   "execution_count": null,
   "metadata": {},
   "outputs": [],
   "source": [
    "\"\"\" Whether any part of their study period intersected with Ramadan \"\"\"\n",
    "\n",
    "from analysis_utils import read\n",
    "\n",
    "date_df = df.merge(\n",
    "    read.smartwatch_feasibility()[[\"actualdateofdistribution1st\", \"residents_id\"]],\n",
    "    on=\"residents_id\",\n",
    ")\n",
    "\n",
    "ramadan_start, ramadan_end = clean.ramadan_2022()\n",
    "is_in_ramadan = (date_df[\"actualdateofdistribution1st\"] >= ramadan_start) & (\n",
    "    date_df[\"actualdateofdistribution1st\"] <= ramadan_end\n",
    ")\n",
    "\n",
    "print(f\"{is_in_ramadan.sum()} of {len(is_in_ramadan)}\")"
   ]
  }
 ],
 "metadata": {
  "language_info": {
   "name": "python"
  }
 },
 "nbformat": 4,
 "nbformat_minor": 2
}
